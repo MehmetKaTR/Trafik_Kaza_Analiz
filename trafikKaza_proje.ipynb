{
 "cells": [
  {
   "cell_type": "code",
   "execution_count": null,
   "id": "9bde7846-0ac0-4e28-864e-ae8959a1504c",
   "metadata": {},
   "outputs": [],
   "source": []
  },
  {
   "cell_type": "code",
   "execution_count": 2,
   "id": "b6de7ca9-7321-45d9-a65a-a8eced1db35d",
   "metadata": {},
   "outputs": [],
   "source": [
    "import numpy as np\n",
    "import pandas as pd\n",
    "import seaborn as sns\n",
    "from random import sample\n",
    "from sklearn.model_selection import train_test_split\n",
    "import matplotlib.pyplot as plt"
   ]
  },
  {
   "cell_type": "code",
   "execution_count": 1,
   "id": "e9323896-755d-4900-8378-2ba9b0afa13c",
   "metadata": {},
   "outputs": [],
   "source": [
    "from sklearn.neighbors import KNeighborsRegressor"
   ]
  },
  {
   "cell_type": "code",
   "execution_count": null,
   "id": "6715d4a1-86fd-4b89-b2ec-27ee138cfa5e",
   "metadata": {},
   "outputs": [],
   "source": []
  },
  {
   "cell_type": "code",
   "execution_count": 3,
   "id": "6cc1a220-9021-4bf3-acc6-7385c0ec321a",
   "metadata": {},
   "outputs": [
    {
     "name": "stderr",
     "output_type": "stream",
     "text": [
      "C:\\Users\\mehme\\anaconda3\\lib\\site-packages\\IPython\\core\\interactiveshell.py:3444: DtypeWarning: Columns (31) have mixed types.Specify dtype option on import or set low_memory=False.\n",
      "  exec(code_obj, self.user_global_ns, self.user_ns)\n"
     ]
    }
   ],
   "source": [
    "df1=pd.read_csv(\"accidents_2005_to_2007.csv\")\n",
    "df2=pd.read_csv(\"accidents_2009_to_2011.csv\")\n",
    "df3=pd.read_csv(\"accidents_2012_to_2014.csv\")"
   ]
  },
  {
   "cell_type": "code",
   "execution_count": null,
   "id": "4a2ab005-0e2a-4295-a3d1-69a73d60b213",
   "metadata": {},
   "outputs": [],
   "source": []
  },
  {
   "cell_type": "code",
   "execution_count": 4,
   "id": "8e636b66-c74a-4352-a454-48bf0ad844e4",
   "metadata": {},
   "outputs": [],
   "source": [
    "big_df=pd.concat([df1,df2,df3])"
   ]
  },
  {
   "cell_type": "code",
   "execution_count": null,
   "id": "52e62c67-f934-4e4a-beab-0e27c6444bba",
   "metadata": {},
   "outputs": [],
   "source": []
  },
  {
   "cell_type": "code",
   "execution_count": 7,
   "id": "eac148bf-2108-4b52-a785-3da866a8ec69",
   "metadata": {},
   "outputs": [
    {
     "data": {
      "text/html": [
       "<div>\n",
       "<style scoped>\n",
       "    .dataframe tbody tr th:only-of-type {\n",
       "        vertical-align: middle;\n",
       "    }\n",
       "\n",
       "    .dataframe tbody tr th {\n",
       "        vertical-align: top;\n",
       "    }\n",
       "\n",
       "    .dataframe thead th {\n",
       "        text-align: right;\n",
       "    }\n",
       "</style>\n",
       "<table border=\"1\" class=\"dataframe\">\n",
       "  <thead>\n",
       "    <tr style=\"text-align: right;\">\n",
       "      <th></th>\n",
       "      <th>Accident_Index</th>\n",
       "      <th>Location_Easting_OSGR</th>\n",
       "      <th>Location_Northing_OSGR</th>\n",
       "      <th>Longitude</th>\n",
       "      <th>Latitude</th>\n",
       "      <th>Police_Force</th>\n",
       "      <th>Accident_Severity</th>\n",
       "      <th>Number_of_Vehicles</th>\n",
       "      <th>Number_of_Casualties</th>\n",
       "      <th>Date</th>\n",
       "      <th>...</th>\n",
       "      <th>Pedestrian_Crossing-Physical_Facilities</th>\n",
       "      <th>Light_Conditions</th>\n",
       "      <th>Weather_Conditions</th>\n",
       "      <th>Road_Surface_Conditions</th>\n",
       "      <th>Special_Conditions_at_Site</th>\n",
       "      <th>Carriageway_Hazards</th>\n",
       "      <th>Urban_or_Rural_Area</th>\n",
       "      <th>Did_Police_Officer_Attend_Scene_of_Accident</th>\n",
       "      <th>LSOA_of_Accident_Location</th>\n",
       "      <th>Year</th>\n",
       "    </tr>\n",
       "  </thead>\n",
       "  <tbody>\n",
       "    <tr>\n",
       "      <th>464692</th>\n",
       "      <td>2.01E+12</td>\n",
       "      <td>310037.0</td>\n",
       "      <td>597647.0</td>\n",
       "      <td>-3.417278</td>\n",
       "      <td>55.264773</td>\n",
       "      <td>98</td>\n",
       "      <td>2</td>\n",
       "      <td>2</td>\n",
       "      <td>1</td>\n",
       "      <td>07/12/2014</td>\n",
       "      <td>...</td>\n",
       "      <td>No physical crossing within 50 meters</td>\n",
       "      <td>Darkeness: No street lighting</td>\n",
       "      <td>Snowing without high winds</td>\n",
       "      <td>Snow</td>\n",
       "      <td>None</td>\n",
       "      <td>None</td>\n",
       "      <td>2</td>\n",
       "      <td>Yes</td>\n",
       "      <td>NaN</td>\n",
       "      <td>2014</td>\n",
       "    </tr>\n",
       "    <tr>\n",
       "      <th>464693</th>\n",
       "      <td>2.01E+12</td>\n",
       "      <td>321509.0</td>\n",
       "      <td>574063.0</td>\n",
       "      <td>-3.230255</td>\n",
       "      <td>55.054855</td>\n",
       "      <td>98</td>\n",
       "      <td>3</td>\n",
       "      <td>2</td>\n",
       "      <td>2</td>\n",
       "      <td>11/12/2014</td>\n",
       "      <td>...</td>\n",
       "      <td>No physical crossing within 50 meters</td>\n",
       "      <td>Darkeness: No street lighting</td>\n",
       "      <td>Fine without high winds</td>\n",
       "      <td>Snow</td>\n",
       "      <td>None</td>\n",
       "      <td>None</td>\n",
       "      <td>2</td>\n",
       "      <td>Yes</td>\n",
       "      <td>NaN</td>\n",
       "      <td>2014</td>\n",
       "    </tr>\n",
       "    <tr>\n",
       "      <th>464694</th>\n",
       "      <td>2.01E+12</td>\n",
       "      <td>321337.0</td>\n",
       "      <td>566365.0</td>\n",
       "      <td>-3.230826</td>\n",
       "      <td>54.985668</td>\n",
       "      <td>98</td>\n",
       "      <td>3</td>\n",
       "      <td>1</td>\n",
       "      <td>1</td>\n",
       "      <td>09/12/2014</td>\n",
       "      <td>...</td>\n",
       "      <td>No physical crossing within 50 meters</td>\n",
       "      <td>Darkness: Street lights present and lit</td>\n",
       "      <td>Fine without high winds</td>\n",
       "      <td>Frost/Ice</td>\n",
       "      <td>None</td>\n",
       "      <td>None</td>\n",
       "      <td>2</td>\n",
       "      <td>Yes</td>\n",
       "      <td>NaN</td>\n",
       "      <td>2014</td>\n",
       "    </tr>\n",
       "    <tr>\n",
       "      <th>464695</th>\n",
       "      <td>2.01E+12</td>\n",
       "      <td>323869.0</td>\n",
       "      <td>566853.0</td>\n",
       "      <td>-3.191397</td>\n",
       "      <td>54.990446</td>\n",
       "      <td>98</td>\n",
       "      <td>2</td>\n",
       "      <td>3</td>\n",
       "      <td>2</td>\n",
       "      <td>17/12/2014</td>\n",
       "      <td>...</td>\n",
       "      <td>No physical crossing within 50 meters</td>\n",
       "      <td>Darkeness: No street lighting</td>\n",
       "      <td>Raining without high winds</td>\n",
       "      <td>Wet/Damp</td>\n",
       "      <td>None</td>\n",
       "      <td>None</td>\n",
       "      <td>2</td>\n",
       "      <td>Yes</td>\n",
       "      <td>NaN</td>\n",
       "      <td>2014</td>\n",
       "    </tr>\n",
       "    <tr>\n",
       "      <th>464696</th>\n",
       "      <td>2.01E+12</td>\n",
       "      <td>314072.0</td>\n",
       "      <td>579971.0</td>\n",
       "      <td>-3.348426</td>\n",
       "      <td>55.106700</td>\n",
       "      <td>98</td>\n",
       "      <td>3</td>\n",
       "      <td>2</td>\n",
       "      <td>2</td>\n",
       "      <td>24/12/2014</td>\n",
       "      <td>...</td>\n",
       "      <td>No physical crossing within 50 meters</td>\n",
       "      <td>Daylight: Street light present</td>\n",
       "      <td>Fine without high winds</td>\n",
       "      <td>Wet/Damp</td>\n",
       "      <td>None</td>\n",
       "      <td>None</td>\n",
       "      <td>2</td>\n",
       "      <td>Yes</td>\n",
       "      <td>NaN</td>\n",
       "      <td>2014</td>\n",
       "    </tr>\n",
       "  </tbody>\n",
       "</table>\n",
       "<p>5 rows × 33 columns</p>\n",
       "</div>"
      ],
      "text/plain": [
       "       Accident_Index  Location_Easting_OSGR  Location_Northing_OSGR  \\\n",
       "464692       2.01E+12               310037.0                597647.0   \n",
       "464693       2.01E+12               321509.0                574063.0   \n",
       "464694       2.01E+12               321337.0                566365.0   \n",
       "464695       2.01E+12               323869.0                566853.0   \n",
       "464696       2.01E+12               314072.0                579971.0   \n",
       "\n",
       "        Longitude   Latitude  Police_Force  Accident_Severity  \\\n",
       "464692  -3.417278  55.264773            98                  2   \n",
       "464693  -3.230255  55.054855            98                  3   \n",
       "464694  -3.230826  54.985668            98                  3   \n",
       "464695  -3.191397  54.990446            98                  2   \n",
       "464696  -3.348426  55.106700            98                  3   \n",
       "\n",
       "        Number_of_Vehicles  Number_of_Casualties        Date  ...  \\\n",
       "464692                   2                     1  07/12/2014  ...   \n",
       "464693                   2                     2  11/12/2014  ...   \n",
       "464694                   1                     1  09/12/2014  ...   \n",
       "464695                   3                     2  17/12/2014  ...   \n",
       "464696                   2                     2  24/12/2014  ...   \n",
       "\n",
       "        Pedestrian_Crossing-Physical_Facilities  \\\n",
       "464692    No physical crossing within 50 meters   \n",
       "464693    No physical crossing within 50 meters   \n",
       "464694    No physical crossing within 50 meters   \n",
       "464695    No physical crossing within 50 meters   \n",
       "464696    No physical crossing within 50 meters   \n",
       "\n",
       "                               Light_Conditions          Weather_Conditions  \\\n",
       "464692            Darkeness: No street lighting  Snowing without high winds   \n",
       "464693            Darkeness: No street lighting     Fine without high winds   \n",
       "464694  Darkness: Street lights present and lit     Fine without high winds   \n",
       "464695            Darkeness: No street lighting  Raining without high winds   \n",
       "464696           Daylight: Street light present     Fine without high winds   \n",
       "\n",
       "       Road_Surface_Conditions  Special_Conditions_at_Site  \\\n",
       "464692                    Snow                        None   \n",
       "464693                    Snow                        None   \n",
       "464694               Frost/Ice                        None   \n",
       "464695                Wet/Damp                        None   \n",
       "464696                Wet/Damp                        None   \n",
       "\n",
       "        Carriageway_Hazards Urban_or_Rural_Area  \\\n",
       "464692                 None                   2   \n",
       "464693                 None                   2   \n",
       "464694                 None                   2   \n",
       "464695                 None                   2   \n",
       "464696                 None                   2   \n",
       "\n",
       "        Did_Police_Officer_Attend_Scene_of_Accident  \\\n",
       "464692                                          Yes   \n",
       "464693                                          Yes   \n",
       "464694                                          Yes   \n",
       "464695                                          Yes   \n",
       "464696                                          Yes   \n",
       "\n",
       "        LSOA_of_Accident_Location  Year  \n",
       "464692                        NaN  2014  \n",
       "464693                        NaN  2014  \n",
       "464694                        NaN  2014  \n",
       "464695                        NaN  2014  \n",
       "464696                        NaN  2014  \n",
       "\n",
       "[5 rows x 33 columns]"
      ]
     },
     "execution_count": 7,
     "metadata": {},
     "output_type": "execute_result"
    }
   ],
   "source": [
    "big_df.tail()"
   ]
  },
  {
   "cell_type": "code",
   "execution_count": null,
   "id": "8e4a166f-cdcd-412e-b90c-bd376fb30948",
   "metadata": {},
   "outputs": [],
   "source": []
  },
  {
   "cell_type": "code",
   "execution_count": null,
   "id": "d58e1691-51a0-4c2a-91a6-0d0c89886dfc",
   "metadata": {},
   "outputs": [],
   "source": []
  },
  {
   "cell_type": "code",
   "execution_count": null,
   "id": "72e7c08a-4e82-4e82-8f45-48dd8dff9976",
   "metadata": {},
   "outputs": [],
   "source": []
  },
  {
   "cell_type": "code",
   "execution_count": null,
   "id": "1c3a492c-7f49-40e4-b2d5-a488c5622b98",
   "metadata": {},
   "outputs": [],
   "source": []
  },
  {
   "cell_type": "code",
   "execution_count": 24,
   "id": "ff89571a-94ca-4c49-8e4d-e9c000aa6e1c",
   "metadata": {},
   "outputs": [],
   "source": [
    "#month1={\"month\": []}\n",
    "#month1=pd.DataFrame(data=month1)"
   ]
  },
  {
   "cell_type": "code",
   "execution_count": 25,
   "id": "b5bd7213-3eee-46ef-aa4e-6ca2661a4995",
   "metadata": {},
   "outputs": [],
   "source": [
    "#month1[\"month\"] = pd.DatetimeIndex(df1[\"Date\"]).month"
   ]
  },
  {
   "cell_type": "code",
   "execution_count": null,
   "id": "377210d4-ae1b-44d4-a563-5846bded22bf",
   "metadata": {},
   "outputs": [],
   "source": []
  },
  {
   "cell_type": "code",
   "execution_count": 5,
   "id": "bf5ce8d9-79d9-4e9c-9471-77aabc870b5c",
   "metadata": {},
   "outputs": [
    {
     "data": {
      "text/plain": [
       "<AxesSubplot:xlabel='Year', ylabel='count'>"
      ]
     },
     "execution_count": 5,
     "metadata": {},
     "output_type": "execute_result"
    },
    {
     "data": {
      "image/png": "[encoded data removed]",
      "text/plain": [
       "<Figure size 432x288 with 1 Axes>"
      ]
     },
     "metadata": {
      "needs_background": "light"
     },
     "output_type": "display_data"
    }
   ],
   "source": [
    "sns.countplot(data=big_df,x=\"Year\")"
   ]
  },
  {
   "cell_type": "code",
   "execution_count": null,
   "id": "debf5f35-d6ec-4f90-a602-b91ac4e35019",
   "metadata": {},
   "outputs": [],
   "source": []
  },
  {
   "cell_type": "code",
   "execution_count": null,
   "id": "68699d64-8fba-4931-9a6a-c8f5b5e72a88",
   "metadata": {},
   "outputs": [],
   "source": []
  },
  {
   "cell_type": "code",
   "execution_count": 6,
   "id": "0b5539d8-6bd6-4368-8bf0-35a0e5535ff3",
   "metadata": {},
   "outputs": [
    {
     "data": {
      "text/plain": [
       "Index(['Accident_Index', 'Location_Easting_OSGR', 'Location_Northing_OSGR',\n",
       "       'Longitude', 'Latitude', 'Police_Force', 'Accident_Severity',\n",
       "       'Number_of_Vehicles', 'Number_of_Casualties', 'Date', 'Day_of_Week',\n",
       "       'Time', 'Local_Authority_(District)', 'Local_Authority_(Highway)',\n",
       "       '1st_Road_Class', '1st_Road_Number', 'Road_Type', 'Speed_limit',\n",
       "       'Junction_Detail', 'Junction_Control', '2nd_Road_Class',\n",
       "       '2nd_Road_Number', 'Pedestrian_Crossing-Human_Control',\n",
       "       'Pedestrian_Crossing-Physical_Facilities', 'Light_Conditions',\n",
       "       'Weather_Conditions', 'Road_Surface_Conditions',\n",
       "       'Special_Conditions_at_Site', 'Carriageway_Hazards',\n",
       "       'Urban_or_Rural_Area', 'Did_Police_Officer_Attend_Scene_of_Accident',\n",
       "       'LSOA_of_Accident_Location', 'Year'],\n",
       "      dtype='object')"
      ]
     },
     "execution_count": 6,
     "metadata": {},
     "output_type": "execute_result"
    }
   ],
   "source": [
    "big_df.columns"
   ]
  },
  {
   "cell_type": "code",
   "execution_count": null,
   "id": "f5396f66-adcf-4ad9-8b69-07c127a06b70",
   "metadata": {},
   "outputs": [],
   "source": []
  },
  {
   "cell_type": "code",
   "execution_count": 7,
   "id": "efef093d-1ad9-472d-9cae-609910789971",
   "metadata": {},
   "outputs": [
    {
     "data": {
      "text/plain": [
       "<AxesSubplot:xlabel='Urban_or_Rural_Area', ylabel='count'>"
      ]
     },
     "execution_count": 7,
     "metadata": {},
     "output_type": "execute_result"
    },
    {
     "data": {
      "image/png": "[encoded data removed]",
      "text/plain": [
       "<Figure size 432x288 with 1 Axes>"
      ]
     },
     "metadata": {
      "needs_background": "light"
     },
     "output_type": "display_data"
    }
   ],
   "source": [
    "sns.countplot(data=big_df,x=\"Urban_or_Rural_Area\")"
   ]
  },
  {
   "cell_type": "code",
   "execution_count": 8,
   "id": "24cd2618-ba74-40c7-9193-601b6c160f98",
   "metadata": {},
   "outputs": [],
   "source": [
    "#Kazaların büyük çoğunluğu kentsel bölgelerde olmuş"
   ]
  },
  {
   "cell_type": "code",
   "execution_count": null,
   "id": "4911dbb0-246e-4c90-8001-cef7d0f09e92",
   "metadata": {},
   "outputs": [],
   "source": []
  },
  {
   "cell_type": "code",
   "execution_count": 8,
   "id": "449051e8-9481-4449-9f07-b8d9e642c5ff",
   "metadata": {},
   "outputs": [
    {
     "data": {
      "text/plain": [
       "<AxesSubplot:xlabel='Urban_or_Rural_Area', ylabel='count'>"
      ]
     },
     "execution_count": 8,
     "metadata": {},
     "output_type": "execute_result"
    },
    {
     "data": {
      "image/png": "[encoded data removed]",
      "text/plain": [
       "<Figure size 432x288 with 1 Axes>"
      ]
     },
     "metadata": {
      "needs_background": "light"
     },
     "output_type": "display_data"
    }
   ],
   "source": [
    "sns.countplot(data=df1,x=\"Urban_or_Rural_Area\")"
   ]
  },
  {
   "cell_type": "code",
   "execution_count": null,
   "id": "6b469753-b94e-4a7c-b819-7d35297de0e0",
   "metadata": {},
   "outputs": [],
   "source": []
  },
  {
   "cell_type": "code",
   "execution_count": 9,
   "id": "e6d1f680-19b3-485c-845e-ac4c159b2f95",
   "metadata": {},
   "outputs": [
    {
     "data": {
      "text/plain": [
       "<AxesSubplot:xlabel='Urban_or_Rural_Area', ylabel='count'>"
      ]
     },
     "execution_count": 9,
     "metadata": {},
     "output_type": "execute_result"
    },
    {
     "data": {
      "image/png": "[encoded data removed]",
      "text/plain": [
       "<Figure size 432x288 with 1 Axes>"
      ]
     },
     "metadata": {
      "needs_background": "light"
     },
     "output_type": "display_data"
    }
   ],
   "source": [
    "sns.countplot(data=df2,x=\"Urban_or_Rural_Area\")"
   ]
  },
  {
   "cell_type": "code",
   "execution_count": null,
   "id": "e3f1b568-11d2-4190-8c18-9a4da6cd2e87",
   "metadata": {},
   "outputs": [],
   "source": []
  },
  {
   "cell_type": "code",
   "execution_count": 10,
   "id": "9fa641c6-5b5f-47b9-ac9a-11a9d52a8841",
   "metadata": {},
   "outputs": [
    {
     "data": {
      "text/plain": [
       "<AxesSubplot:xlabel='Urban_or_Rural_Area', ylabel='count'>"
      ]
     },
     "execution_count": 10,
     "metadata": {},
     "output_type": "execute_result"
    },
    {
     "data": {
      "image/png": "[encoded data removed]",
      "text/plain": [
       "<Figure size 432x288 with 1 Axes>"
      ]
     },
     "metadata": {
      "needs_background": "light"
     },
     "output_type": "display_data"
    }
   ],
   "source": [
    "sns.countplot(data=df3,x=\"Urban_or_Rural_Area\")"
   ]
  },
  {
   "cell_type": "code",
   "execution_count": 61,
   "id": "6080759e-6829-4853-9beb-7f979f68681f",
   "metadata": {},
   "outputs": [],
   "source": [
    "#zamanla kırsal kesimdeki kaza oranı düşmüş.Bunun sebebi zamanla kırsal alanların azalması olabilir."
   ]
  },
  {
   "cell_type": "code",
   "execution_count": null,
   "id": "48fd395e-c3e8-4245-946b-6d36a9d1a947",
   "metadata": {},
   "outputs": [],
   "source": []
  },
  {
   "cell_type": "code",
   "execution_count": 11,
   "id": "06c434e6-d61d-4bd1-ae69-001d0d45ea89",
   "metadata": {},
   "outputs": [
    {
     "data": {
      "text/plain": [
       "<AxesSubplot:xlabel='Urban_or_Rural_Area', ylabel='count'>"
      ]
     },
     "execution_count": 11,
     "metadata": {},
     "output_type": "execute_result"
    },
    {
     "data": {
      "image/png": "[encoded data removed]",
      "text/plain": [
       "<Figure size 432x288 with 1 Axes>"
      ]
     },
     "metadata": {
      "needs_background": "light"
     },
     "output_type": "display_data"
    }
   ],
   "source": [
    "sns.countplot(data=big_df,x=\"Urban_or_Rural_Area\",hue=\"Year\")"
   ]
  },
  {
   "cell_type": "code",
   "execution_count": null,
   "id": "e22a6ab6-4315-4a2c-b427-0f70163d85c9",
   "metadata": {},
   "outputs": [],
   "source": []
  },
  {
   "cell_type": "code",
   "execution_count": 12,
   "id": "c95332ac-726c-4bf2-b154-9b59cb4c74d4",
   "metadata": {},
   "outputs": [
    {
     "data": {
      "image/png": "[encoded data removed]",
      "text/plain": [
       "<Figure size 1800x360 with 1 Axes>"
      ]
     },
     "metadata": {
      "needs_background": "light"
     },
     "output_type": "display_data"
    }
   ],
   "source": [
    "fig, ax = plt.subplots(figsize=(25, 5))\n",
    "sns.countplot(data=big_df,x=\"Weather_Conditions\")\n",
    "plt.show()"
   ]
  },
  {
   "cell_type": "code",
   "execution_count": 69,
   "id": "9573d5b2-dff1-45e8-b00a-177af98641e5",
   "metadata": {},
   "outputs": [],
   "source": [
    "#Verilerde yağışlı günlerden ziyade günün yağışsız ve sert rüzgarsız geçtiği zamanlardaki kaza oranı daha fazla gözüküyor.\n",
    "#Yağmurlu günler de diğer hava durumlarna böre daha fazla kazaya sebep olmuş."
   ]
  },
  {
   "cell_type": "code",
   "execution_count": null,
   "id": "bd51bd55-56a4-4d3c-9395-2885ca1249db",
   "metadata": {},
   "outputs": [],
   "source": []
  },
  {
   "cell_type": "code",
   "execution_count": 13,
   "id": "99a74fee-3225-4c57-8c00-77b0fa4368df",
   "metadata": {},
   "outputs": [
    {
     "data": {
      "image/png": "[encoded data removed]",
      "text/plain": [
       "<Figure size 1800x360 with 1 Axes>"
      ]
     },
     "metadata": {
      "needs_background": "light"
     },
     "output_type": "display_data"
    }
   ],
   "source": [
    "fig, ax = plt.subplots(figsize=(25, 5))\n",
    "sns.countplot(data=big_df,x=\"Road_Surface_Conditions\")\n",
    "plt.show()"
   ]
  },
  {
   "cell_type": "code",
   "execution_count": null,
   "id": "905b756d-81a0-4039-b1f4-1ab1375f0db4",
   "metadata": {},
   "outputs": [],
   "source": []
  },
  {
   "cell_type": "code",
   "execution_count": 20,
   "id": "12938b8a-d163-4257-a1ce-3b3d31c7bdf3",
   "metadata": {},
   "outputs": [
    {
     "data": {
      "text/plain": [
       "<AxesSubplot:ylabel='Year'>"
      ]
     },
     "execution_count": 20,
     "metadata": {},
     "output_type": "execute_result"
    },
    {
     "data": {
      "image/png": "[encoded data removed]",
      "text/plain": [
       "<Figure size 432x288 with 1 Axes>"
      ]
     },
     "metadata": {},
     "output_type": "display_data"
    }
   ],
   "source": [
    "big_df.groupby([\"Road_Type\"]).sum().plot(kind='pie',y=\"Year\")"
   ]
  },
  {
   "cell_type": "code",
   "execution_count": 23,
   "id": "814c5e55-4556-4bfe-8f94-74575491d134",
   "metadata": {},
   "outputs": [],
   "source": [
    "#Kazanların çoğunluğu aynı anda tek bir aracın geçebildiği yollarda olmuş."
   ]
  },
  {
   "cell_type": "code",
   "execution_count": null,
   "id": "02efb519-d307-4a48-bab7-045dc3a23dd3",
   "metadata": {},
   "outputs": [],
   "source": []
  },
  {
   "cell_type": "code",
   "execution_count": null,
   "id": "003b67c3-ddfe-4de2-b2e3-1201ec9790d8",
   "metadata": {},
   "outputs": [],
   "source": []
  },
  {
   "cell_type": "code",
   "execution_count": 68,
   "id": "b8af2ea7-bf86-4125-bd3d-4b4819621bed",
   "metadata": {},
   "outputs": [
    {
     "data": {
      "text/plain": [
       "<AxesSubplot:xlabel='Accident_Severity', ylabel='Speed_limit'>"
      ]
     },
     "execution_count": 68,
     "metadata": {},
     "output_type": "execute_result"
    },
    {
     "data": {
      "image/png": "[encoded data removed]",
      "text/plain": [
       "<Figure size 432x288 with 1 Axes>"
      ]
     },
     "metadata": {},
     "output_type": "display_data"
    }
   ],
   "source": [
    "sns.barplot(data=big_df,x=\"Accident_Severity\",y=\"Speed_limit\")"
   ]
  },
  {
   "cell_type": "code",
   "execution_count": 69,
   "id": "b73ff55b-0f5a-40d3-a06a-74315c66a89e",
   "metadata": {},
   "outputs": [],
   "source": [
    "#Hız limiti arttıkça kaza şiddeti de artmış."
   ]
  },
  {
   "cell_type": "code",
   "execution_count": null,
   "id": "df835deb-3ff7-47d4-b59f-af8d00a63010",
   "metadata": {},
   "outputs": [],
   "source": []
  },
  {
   "cell_type": "code",
   "execution_count": 80,
   "id": "d92fec97-8800-4f17-84c1-be37bd47cad9",
   "metadata": {},
   "outputs": [
    {
     "data": {
      "text/plain": [
       "<AxesSubplot:xlabel='Speed_limit', ylabel='count'>"
      ]
     },
     "execution_count": 80,
     "metadata": {},
     "output_type": "execute_result"
    },
    {
     "data": {
      "image/png": "[encoded data removed]",
      "text/plain": [
       "<Figure size 432x288 with 1 Axes>"
      ]
     },
     "metadata": {},
     "output_type": "display_data"
    }
   ],
   "source": [
    "sns.countplot(data=big_df,x=\"Speed_limit\")"
   ]
  },
  {
   "cell_type": "code",
   "execution_count": 81,
   "id": "082783f0-aa84-47c9-8378-10a4e5d4464b",
   "metadata": {},
   "outputs": [],
   "source": [
    "#Hız limitinin 30 olduğu yollarda daha fazla kaza gerçekleşmiş."
   ]
  },
  {
   "cell_type": "code",
   "execution_count": null,
   "id": "28d1bee0-cf13-451a-8429-b5742fb76ee6",
   "metadata": {},
   "outputs": [],
   "source": []
  },
  {
   "cell_type": "code",
   "execution_count": 86,
   "id": "90f8c45b-b3cd-46e2-adea-88b9f362041d",
   "metadata": {},
   "outputs": [
    {
     "data": {
      "text/plain": [
       "array(['None', 'Other object in carriageway',\n",
       "       'Pedestrian in carriageway (not injured)',\n",
       "       'Dislodged vehicle load in carriageway',\n",
       "       'Involvement with previous accident',\n",
       "       'Any animal (except a ridden horse)', nan], dtype=object)"
      ]
     },
     "execution_count": 86,
     "metadata": {},
     "output_type": "execute_result"
    }
   ],
   "source": [
    "big_df[\"Carriageway_Hazards\"].unique()"
   ]
  },
  {
   "cell_type": "code",
   "execution_count": null,
   "id": "d1e6ba2b-03da-4c17-a488-b5117c1d8037",
   "metadata": {},
   "outputs": [],
   "source": []
  },
  {
   "cell_type": "code",
   "execution_count": 11,
   "id": "501030f6-e08b-4a96-ae1f-f074d71c63cf",
   "metadata": {},
   "outputs": [
    {
     "data": {
      "text/plain": [
       "<AxesSubplot:xlabel='Light_Conditions', ylabel='count'>"
      ]
     },
     "execution_count": 11,
     "metadata": {},
     "output_type": "execute_result"
    },
    {
     "data": {
      "image/png": "[encoded data removed]",
      "text/plain": [
       "<Figure size 1584x360 with 1 Axes>"
      ]
     },
     "metadata": {
      "needs_background": "light"
     },
     "output_type": "display_data"
    }
   ],
   "source": [
    "fig,ax=plt.subplots(figsize=(22,5))\n",
    "sns.countplot(data=big_df,x=\"Light_Conditions\")"
   ]
  },
  {
   "cell_type": "code",
   "execution_count": 12,
   "id": "023293c3-6662-4aff-a021-519901a0cc3f",
   "metadata": {},
   "outputs": [],
   "source": [
    "#Kazaların çoğu gün ışığının olduğu zamanlarda gerçekleşmiş."
   ]
  },
  {
   "cell_type": "code",
   "execution_count": null,
   "id": "4b8e7a37-1044-424d-97b8-a0cd393a4c6d",
   "metadata": {},
   "outputs": [],
   "source": []
  },
  {
   "cell_type": "code",
   "execution_count": 15,
   "id": "84779456-1d81-4425-b159-361ef27ee35d",
   "metadata": {},
   "outputs": [
    {
     "data": {
      "text/plain": [
       "array([nan, 'Automatic traffic signal', 'Giveway or uncontrolled',\n",
       "       'Stop Sign', 'Authorised person'], dtype=object)"
      ]
     },
     "execution_count": 15,
     "metadata": {},
     "output_type": "execute_result"
    }
   ],
   "source": [
    "big_df[\"Junction_Control\"].unique()"
   ]
  },
  {
   "cell_type": "code",
   "execution_count": null,
   "id": "bc33d7ca-e3b4-4377-90dc-ce42ad17e093",
   "metadata": {},
   "outputs": [],
   "source": []
  },
  {
   "cell_type": "code",
   "execution_count": 17,
   "id": "4a418503-ca15-4d54-bc50-40f389288db8",
   "metadata": {},
   "outputs": [
    {
     "data": {
      "text/plain": [
       "<AxesSubplot:xlabel='Junction_Control', ylabel='count'>"
      ]
     },
     "execution_count": 17,
     "metadata": {},
     "output_type": "execute_result"
    },
    {
     "data": {
      "image/png": "[encoded data removed]",
      "text/plain": [
       "<Figure size 1800x360 with 1 Axes>"
      ]
     },
     "metadata": {
      "needs_background": "light"
     },
     "output_type": "display_data"
    }
   ],
   "source": [
    "fig,x=plt.subplots(figsize=(25,5))\n",
    "sns.countplot(data=big_df,x=\"Junction_Control\")"
   ]
  },
  {
   "cell_type": "code",
   "execution_count": 18,
   "id": "9e49b05a-daaa-46c8-8845-a0b13d547928",
   "metadata": {},
   "outputs": [],
   "source": [
    "#Kazaların çoğu yol geçişinin herhangi bir kontrole bağlı olmadığı(serbest) yollarda gerçekleşmiş."
   ]
  },
  {
   "cell_type": "code",
   "execution_count": null,
   "id": "0c6ca1a0-8309-4c4e-a502-3cdd48c3ac5a",
   "metadata": {},
   "outputs": [],
   "source": []
  },
  {
   "cell_type": "code",
   "execution_count": 20,
   "id": "31233f15-5e6a-4623-ba93-fdddccb6007f",
   "metadata": {},
   "outputs": [
    {
     "data": {
      "text/plain": [
       "array(['None within 50 metres', 'Control by other authorised person',\n",
       "       'Control by school crossing patrol', nan], dtype=object)"
      ]
     },
     "execution_count": 20,
     "metadata": {},
     "output_type": "execute_result"
    }
   ],
   "source": [
    "big_df[\"Pedestrian_Crossing-Human_Control\"].unique()"
   ]
  },
  {
   "cell_type": "code",
   "execution_count": null,
   "id": "0f979327-699c-4abb-98d9-36edc916e114",
   "metadata": {},
   "outputs": [],
   "source": []
  },
  {
   "cell_type": "code",
   "execution_count": 23,
   "id": "ef3fc92a-7056-4e01-97ab-07273e33e564",
   "metadata": {},
   "outputs": [
    {
     "data": {
      "text/plain": [
       "<AxesSubplot:xlabel='Pedestrian_Crossing-Human_Control', ylabel='count'>"
      ]
     },
     "execution_count": 23,
     "metadata": {},
     "output_type": "execute_result"
    },
    {
     "data": {
      "image/png": "[encoded data removed]",
      "text/plain": [
       "<Figure size 1440x360 with 1 Axes>"
      ]
     },
     "metadata": {
      "needs_background": "light"
     },
     "output_type": "display_data"
    }
   ],
   "source": [
    "fig,ax=plt.subplots(figsize=(20,5))\n",
    "sns.countplot(data=big_df,x=\"Pedestrian_Crossing-Human_Control\")"
   ]
  },
  {
   "cell_type": "code",
   "execution_count": null,
   "id": "f91b3c62-6252-48a4-a06f-4860f61ea91b",
   "metadata": {},
   "outputs": [],
   "source": []
  },
  {
   "cell_type": "code",
   "execution_count": null,
   "id": "8759e875-bddc-4a1b-a88b-745f7ed763bf",
   "metadata": {},
   "outputs": [],
   "source": []
  },
  {
   "cell_type": "code",
   "execution_count": 24,
   "id": "cba1c1cd-9d6c-452c-b79d-0246aa6fd581",
   "metadata": {},
   "outputs": [],
   "source": [
    "#########################################################################################"
   ]
  },
  {
   "cell_type": "markdown",
   "id": "969bddc4-0235-4fcf-887d-63365c6349d1",
   "metadata": {},
   "source": [
    "## Kaza Tahmini"
   ]
  },
  {
   "cell_type": "code",
   "execution_count": null,
   "id": "73a9964c-3c87-486c-b52a-540434de4101",
   "metadata": {},
   "outputs": [],
   "source": []
  },
  {
   "cell_type": "code",
   "execution_count": 25,
   "id": "936f7665-5360-466a-b598-bca1faf05776",
   "metadata": {},
   "outputs": [
    {
     "data": {
      "text/plain": [
       "Index(['Accident_Index', 'Location_Easting_OSGR', 'Location_Northing_OSGR',\n",
       "       'Longitude', 'Latitude', 'Police_Force', 'Accident_Severity',\n",
       "       'Number_of_Vehicles', 'Number_of_Casualties', 'Date', 'Day_of_Week',\n",
       "       'Time', 'Local_Authority_(District)', 'Local_Authority_(Highway)',\n",
       "       '1st_Road_Class', '1st_Road_Number', 'Road_Type', 'Speed_limit',\n",
       "       'Junction_Detail', 'Junction_Control', '2nd_Road_Class',\n",
       "       '2nd_Road_Number', 'Pedestrian_Crossing-Human_Control',\n",
       "       'Pedestrian_Crossing-Physical_Facilities', 'Light_Conditions',\n",
       "       'Weather_Conditions', 'Road_Surface_Conditions',\n",
       "       'Special_Conditions_at_Site', 'Carriageway_Hazards',\n",
       "       'Urban_or_Rural_Area', 'Did_Police_Officer_Attend_Scene_of_Accident',\n",
       "       'LSOA_of_Accident_Location', 'Year'],\n",
       "      dtype='object')"
      ]
     },
     "execution_count": 25,
     "metadata": {},
     "output_type": "execute_result"
    }
   ],
   "source": [
    "big_df.columns"
   ]
  },
  {
   "cell_type": "code",
   "execution_count": null,
   "id": "2e65735e-dbec-4b2d-b733-6d736def3c2e",
   "metadata": {},
   "outputs": [],
   "source": []
  },
  {
   "cell_type": "code",
   "execution_count": 33,
   "id": "30590d0f-98da-4e0c-b1ec-be11cab2f9d9",
   "metadata": {},
   "outputs": [
    {
     "data": {
      "text/plain": [
       "array(['None', 'Other object in carriageway',\n",
       "       'Pedestrian in carriageway (not injured)',\n",
       "       'Dislodged vehicle load in carriageway',\n",
       "       'Involvement with previous accident',\n",
       "       'Any animal (except a ridden horse)', nan], dtype=object)"
      ]
     },
     "execution_count": 33,
     "metadata": {},
     "output_type": "execute_result"
    }
   ],
   "source": [
    "big_df[\"Carriageway_Hazards\"].unique()"
   ]
  },
  {
   "cell_type": "code",
   "execution_count": 5,
   "id": "0c4800aa-8f39-43c1-8762-a20d370f54ad",
   "metadata": {},
   "outputs": [],
   "source": [
    "new_df=big_df.drop([\"Accident_Index\",\"Location_Easting_OSGR\",\"Location_Northing_OSGR\",\n",
    "                   \"Longitude\",\"Time\",\"Date\",\"Local_Authority_(District)\",\"Local_Authority_(Highway)\",\n",
    "                   \"1st_Road_Class\",\"1st_Road_Number\",\"Junction_Detail\",\"Junction_Control\",\"2nd_Road_Class\",\n",
    "                   \"2nd_Road_Number\",\"Pedestrian_Crossing-Physical_Facilities\",\"Special_Conditions_at_Site\",\"Carriageway_Hazards\",\n",
    "                   \"LSOA_of_Accident_Location\",\"Latitude\",\"Pedestrian_Crossing-Human_Control\",\"Year\"],axis=1)"
   ]
  },
  {
   "cell_type": "code",
   "execution_count": null,
   "id": "ec65f5c0-1887-43df-a760-d8c9f5064368",
   "metadata": {},
   "outputs": [],
   "source": []
  },
  {
   "cell_type": "code",
   "execution_count": 6,
   "id": "5171f6e8-dd5c-43ac-8ea8-4799ddb7e4b3",
   "metadata": {
    "tags": []
   },
   "outputs": [
    {
     "data": {
      "text/html": [
       "<div>\n",
       "<style scoped>\n",
       "    .dataframe tbody tr th:only-of-type {\n",
       "        vertical-align: middle;\n",
       "    }\n",
       "\n",
       "    .dataframe tbody tr th {\n",
       "        vertical-align: top;\n",
       "    }\n",
       "\n",
       "    .dataframe thead th {\n",
       "        text-align: right;\n",
       "    }\n",
       "</style>\n",
       "<table border=\"1\" class=\"dataframe\">\n",
       "  <thead>\n",
       "    <tr style=\"text-align: right;\">\n",
       "      <th></th>\n",
       "      <th>Police_Force</th>\n",
       "      <th>Accident_Severity</th>\n",
       "      <th>Number_of_Vehicles</th>\n",
       "      <th>Number_of_Casualties</th>\n",
       "      <th>Day_of_Week</th>\n",
       "      <th>Road_Type</th>\n",
       "      <th>Speed_limit</th>\n",
       "      <th>Light_Conditions</th>\n",
       "      <th>Weather_Conditions</th>\n",
       "      <th>Road_Surface_Conditions</th>\n",
       "      <th>Urban_or_Rural_Area</th>\n",
       "      <th>Did_Police_Officer_Attend_Scene_of_Accident</th>\n",
       "    </tr>\n",
       "  </thead>\n",
       "  <tbody>\n",
       "    <tr>\n",
       "      <th>0</th>\n",
       "      <td>1</td>\n",
       "      <td>2</td>\n",
       "      <td>1</td>\n",
       "      <td>1</td>\n",
       "      <td>3</td>\n",
       "      <td>Single carriageway</td>\n",
       "      <td>30</td>\n",
       "      <td>Daylight: Street light present</td>\n",
       "      <td>Raining without high winds</td>\n",
       "      <td>Wet/Damp</td>\n",
       "      <td>1</td>\n",
       "      <td>Yes</td>\n",
       "    </tr>\n",
       "    <tr>\n",
       "      <th>1</th>\n",
       "      <td>1</td>\n",
       "      <td>3</td>\n",
       "      <td>1</td>\n",
       "      <td>1</td>\n",
       "      <td>4</td>\n",
       "      <td>Dual carriageway</td>\n",
       "      <td>30</td>\n",
       "      <td>Darkness: Street lights present and lit</td>\n",
       "      <td>Fine without high winds</td>\n",
       "      <td>Dry</td>\n",
       "      <td>1</td>\n",
       "      <td>Yes</td>\n",
       "    </tr>\n",
       "    <tr>\n",
       "      <th>2</th>\n",
       "      <td>1</td>\n",
       "      <td>3</td>\n",
       "      <td>2</td>\n",
       "      <td>1</td>\n",
       "      <td>5</td>\n",
       "      <td>Single carriageway</td>\n",
       "      <td>30</td>\n",
       "      <td>Darkness: Street lights present and lit</td>\n",
       "      <td>Fine without high winds</td>\n",
       "      <td>Dry</td>\n",
       "      <td>1</td>\n",
       "      <td>Yes</td>\n",
       "    </tr>\n",
       "    <tr>\n",
       "      <th>3</th>\n",
       "      <td>1</td>\n",
       "      <td>3</td>\n",
       "      <td>1</td>\n",
       "      <td>1</td>\n",
       "      <td>6</td>\n",
       "      <td>Single carriageway</td>\n",
       "      <td>30</td>\n",
       "      <td>Daylight: Street light present</td>\n",
       "      <td>Fine without high winds</td>\n",
       "      <td>Dry</td>\n",
       "      <td>1</td>\n",
       "      <td>Yes</td>\n",
       "    </tr>\n",
       "    <tr>\n",
       "      <th>4</th>\n",
       "      <td>1</td>\n",
       "      <td>3</td>\n",
       "      <td>1</td>\n",
       "      <td>1</td>\n",
       "      <td>2</td>\n",
       "      <td>Single carriageway</td>\n",
       "      <td>30</td>\n",
       "      <td>Darkness: Street lighting unknown</td>\n",
       "      <td>Fine without high winds</td>\n",
       "      <td>Wet/Damp</td>\n",
       "      <td>1</td>\n",
       "      <td>Yes</td>\n",
       "    </tr>\n",
       "    <tr>\n",
       "      <th>...</th>\n",
       "      <td>...</td>\n",
       "      <td>...</td>\n",
       "      <td>...</td>\n",
       "      <td>...</td>\n",
       "      <td>...</td>\n",
       "      <td>...</td>\n",
       "      <td>...</td>\n",
       "      <td>...</td>\n",
       "      <td>...</td>\n",
       "      <td>...</td>\n",
       "      <td>...</td>\n",
       "      <td>...</td>\n",
       "    </tr>\n",
       "    <tr>\n",
       "      <th>464692</th>\n",
       "      <td>98</td>\n",
       "      <td>2</td>\n",
       "      <td>2</td>\n",
       "      <td>1</td>\n",
       "      <td>1</td>\n",
       "      <td>Dual carriageway</td>\n",
       "      <td>70</td>\n",
       "      <td>Darkeness: No street lighting</td>\n",
       "      <td>Snowing without high winds</td>\n",
       "      <td>Snow</td>\n",
       "      <td>2</td>\n",
       "      <td>Yes</td>\n",
       "    </tr>\n",
       "    <tr>\n",
       "      <th>464693</th>\n",
       "      <td>98</td>\n",
       "      <td>3</td>\n",
       "      <td>2</td>\n",
       "      <td>2</td>\n",
       "      <td>5</td>\n",
       "      <td>Dual carriageway</td>\n",
       "      <td>70</td>\n",
       "      <td>Darkeness: No street lighting</td>\n",
       "      <td>Fine without high winds</td>\n",
       "      <td>Snow</td>\n",
       "      <td>2</td>\n",
       "      <td>Yes</td>\n",
       "    </tr>\n",
       "    <tr>\n",
       "      <th>464694</th>\n",
       "      <td>98</td>\n",
       "      <td>3</td>\n",
       "      <td>1</td>\n",
       "      <td>1</td>\n",
       "      <td>3</td>\n",
       "      <td>Single carriageway</td>\n",
       "      <td>40</td>\n",
       "      <td>Darkness: Street lights present and lit</td>\n",
       "      <td>Fine without high winds</td>\n",
       "      <td>Frost/Ice</td>\n",
       "      <td>2</td>\n",
       "      <td>Yes</td>\n",
       "    </tr>\n",
       "    <tr>\n",
       "      <th>464695</th>\n",
       "      <td>98</td>\n",
       "      <td>2</td>\n",
       "      <td>3</td>\n",
       "      <td>2</td>\n",
       "      <td>4</td>\n",
       "      <td>Single carriageway</td>\n",
       "      <td>60</td>\n",
       "      <td>Darkeness: No street lighting</td>\n",
       "      <td>Raining without high winds</td>\n",
       "      <td>Wet/Damp</td>\n",
       "      <td>2</td>\n",
       "      <td>Yes</td>\n",
       "    </tr>\n",
       "    <tr>\n",
       "      <th>464696</th>\n",
       "      <td>98</td>\n",
       "      <td>3</td>\n",
       "      <td>2</td>\n",
       "      <td>2</td>\n",
       "      <td>4</td>\n",
       "      <td>Single carriageway</td>\n",
       "      <td>60</td>\n",
       "      <td>Daylight: Street light present</td>\n",
       "      <td>Fine without high winds</td>\n",
       "      <td>Wet/Damp</td>\n",
       "      <td>2</td>\n",
       "      <td>Yes</td>\n",
       "    </tr>\n",
       "  </tbody>\n",
       "</table>\n",
       "<p>1504150 rows × 12 columns</p>\n",
       "</div>"
      ],
      "text/plain": [
       "        Police_Force  Accident_Severity  Number_of_Vehicles  \\\n",
       "0                  1                  2                   1   \n",
       "1                  1                  3                   1   \n",
       "2                  1                  3                   2   \n",
       "3                  1                  3                   1   \n",
       "4                  1                  3                   1   \n",
       "...              ...                ...                 ...   \n",
       "464692            98                  2                   2   \n",
       "464693            98                  3                   2   \n",
       "464694            98                  3                   1   \n",
       "464695            98                  2                   3   \n",
       "464696            98                  3                   2   \n",
       "\n",
       "        Number_of_Casualties  Day_of_Week           Road_Type  Speed_limit  \\\n",
       "0                          1            3  Single carriageway           30   \n",
       "1                          1            4    Dual carriageway           30   \n",
       "2                          1            5  Single carriageway           30   \n",
       "3                          1            6  Single carriageway           30   \n",
       "4                          1            2  Single carriageway           30   \n",
       "...                      ...          ...                 ...          ...   \n",
       "464692                     1            1    Dual carriageway           70   \n",
       "464693                     2            5    Dual carriageway           70   \n",
       "464694                     1            3  Single carriageway           40   \n",
       "464695                     2            4  Single carriageway           60   \n",
       "464696                     2            4  Single carriageway           60   \n",
       "\n",
       "                               Light_Conditions          Weather_Conditions  \\\n",
       "0                Daylight: Street light present  Raining without high winds   \n",
       "1       Darkness: Street lights present and lit     Fine without high winds   \n",
       "2       Darkness: Street lights present and lit     Fine without high winds   \n",
       "3                Daylight: Street light present     Fine without high winds   \n",
       "4             Darkness: Street lighting unknown     Fine without high winds   \n",
       "...                                         ...                         ...   \n",
       "464692            Darkeness: No street lighting  Snowing without high winds   \n",
       "464693            Darkeness: No street lighting     Fine without high winds   \n",
       "464694  Darkness: Street lights present and lit     Fine without high winds   \n",
       "464695            Darkeness: No street lighting  Raining without high winds   \n",
       "464696           Daylight: Street light present     Fine without high winds   \n",
       "\n",
       "       Road_Surface_Conditions  Urban_or_Rural_Area  \\\n",
       "0                     Wet/Damp                    1   \n",
       "1                          Dry                    1   \n",
       "2                          Dry                    1   \n",
       "3                          Dry                    1   \n",
       "4                     Wet/Damp                    1   \n",
       "...                        ...                  ...   \n",
       "464692                    Snow                    2   \n",
       "464693                    Snow                    2   \n",
       "464694               Frost/Ice                    2   \n",
       "464695                Wet/Damp                    2   \n",
       "464696                Wet/Damp                    2   \n",
       "\n",
       "       Did_Police_Officer_Attend_Scene_of_Accident  \n",
       "0                                              Yes  \n",
       "1                                              Yes  \n",
       "2                                              Yes  \n",
       "3                                              Yes  \n",
       "4                                              Yes  \n",
       "...                                            ...  \n",
       "464692                                         Yes  \n",
       "464693                                         Yes  \n",
       "464694                                         Yes  \n",
       "464695                                         Yes  \n",
       "464696                                         Yes  \n",
       "\n",
       "[1504150 rows x 12 columns]"
      ]
     },
     "execution_count": 6,
     "metadata": {},
     "output_type": "execute_result"
    }
   ],
   "source": [
    "new_df"
   ]
  },
  {
   "cell_type": "code",
   "execution_count": null,
   "id": "6f8362d2-7107-4e29-a4d9-c4a864e0e326",
   "metadata": {},
   "outputs": [],
   "source": []
  },
  {
   "cell_type": "code",
   "execution_count": 7,
   "id": "95c9520c-9b4a-415f-a715-92e87ba8b8e5",
   "metadata": {},
   "outputs": [],
   "source": [
    "from sklearn import preprocessing \n",
    "le = preprocessing.LabelEncoder()"
   ]
  },
  {
   "cell_type": "code",
   "execution_count": null,
   "id": "eefc3849-db75-4841-8f0a-2dc0382150dc",
   "metadata": {},
   "outputs": [],
   "source": []
  },
  {
   "cell_type": "code",
   "execution_count": 8,
   "id": "32b9749c-7799-4b99-a4e4-ea3be0d3efbd",
   "metadata": {},
   "outputs": [],
   "source": [
    "new_df[\"Road_Type\"] = le.fit_transform(new_df.Road_Type)"
   ]
  },
  {
   "cell_type": "code",
   "execution_count": 9,
   "id": "75144028-1435-436c-b861-c132a478ddfa",
   "metadata": {},
   "outputs": [],
   "source": [
    "new_df[\"Light_Conditions\"] = le.fit_transform(new_df.Light_Conditions)"
   ]
  },
  {
   "cell_type": "code",
   "execution_count": 10,
   "id": "cf59c857-c2f5-45b2-a5cf-d65de037a9f5",
   "metadata": {},
   "outputs": [],
   "source": [
    "new_df[\"Weather_Conditions\"] = le.fit_transform(new_df.Weather_Conditions)"
   ]
  },
  {
   "cell_type": "code",
   "execution_count": 11,
   "id": "b9d04901-b2ba-4936-9e25-4b9e09523e2b",
   "metadata": {},
   "outputs": [],
   "source": [
    "new_df[\"Road_Surface_Conditions\"] = le.fit_transform(new_df.Road_Surface_Conditions)"
   ]
  },
  {
   "cell_type": "code",
   "execution_count": 12,
   "id": "8f3bd08d-546a-4965-98c5-ff44c333608f",
   "metadata": {},
   "outputs": [],
   "source": [
    "new_df[\"Did_Police_Officer_Attend_Scene_of_Accident\"] = le.fit_transform(new_df.Did_Police_Officer_Attend_Scene_of_Accident)"
   ]
  },
  {
   "cell_type": "code",
   "execution_count": 13,
   "id": "01e531ef-e53d-4566-8d24-c373bfb1137b",
   "metadata": {},
   "outputs": [],
   "source": [
    "new_df[\"Speed_limit\"] = le.fit_transform(new_df.Speed_limit)"
   ]
  },
  {
   "cell_type": "code",
   "execution_count": null,
   "id": "59c5946a-20a6-4359-8991-8d629c1ccd16",
   "metadata": {},
   "outputs": [],
   "source": []
  },
  {
   "cell_type": "code",
   "execution_count": 14,
   "id": "97ca69b9-88b9-44d0-9342-ec2616c76795",
   "metadata": {},
   "outputs": [
    {
     "data": {
      "text/html": [
       "<div>\n",
       "<style scoped>\n",
       "    .dataframe tbody tr th:only-of-type {\n",
       "        vertical-align: middle;\n",
       "    }\n",
       "\n",
       "    .dataframe tbody tr th {\n",
       "        vertical-align: top;\n",
       "    }\n",
       "\n",
       "    .dataframe thead th {\n",
       "        text-align: right;\n",
       "    }\n",
       "</style>\n",
       "<table border=\"1\" class=\"dataframe\">\n",
       "  <thead>\n",
       "    <tr style=\"text-align: right;\">\n",
       "      <th></th>\n",
       "      <th>Police_Force</th>\n",
       "      <th>Accident_Severity</th>\n",
       "      <th>Number_of_Vehicles</th>\n",
       "      <th>Number_of_Casualties</th>\n",
       "      <th>Day_of_Week</th>\n",
       "      <th>Road_Type</th>\n",
       "      <th>Speed_limit</th>\n",
       "      <th>Light_Conditions</th>\n",
       "      <th>Weather_Conditions</th>\n",
       "      <th>Road_Surface_Conditions</th>\n",
       "      <th>Urban_or_Rural_Area</th>\n",
       "      <th>Did_Police_Officer_Attend_Scene_of_Accident</th>\n",
       "    </tr>\n",
       "  </thead>\n",
       "  <tbody>\n",
       "    <tr>\n",
       "      <th>0</th>\n",
       "      <td>1</td>\n",
       "      <td>2</td>\n",
       "      <td>1</td>\n",
       "      <td>1</td>\n",
       "      <td>3</td>\n",
       "      <td>3</td>\n",
       "      <td>3</td>\n",
       "      <td>4</td>\n",
       "      <td>5</td>\n",
       "      <td>4</td>\n",
       "      <td>1</td>\n",
       "      <td>1</td>\n",
       "    </tr>\n",
       "    <tr>\n",
       "      <th>1</th>\n",
       "      <td>1</td>\n",
       "      <td>3</td>\n",
       "      <td>1</td>\n",
       "      <td>1</td>\n",
       "      <td>4</td>\n",
       "      <td>0</td>\n",
       "      <td>3</td>\n",
       "      <td>2</td>\n",
       "      <td>1</td>\n",
       "      <td>0</td>\n",
       "      <td>1</td>\n",
       "      <td>1</td>\n",
       "    </tr>\n",
       "    <tr>\n",
       "      <th>2</th>\n",
       "      <td>1</td>\n",
       "      <td>3</td>\n",
       "      <td>2</td>\n",
       "      <td>1</td>\n",
       "      <td>5</td>\n",
       "      <td>3</td>\n",
       "      <td>3</td>\n",
       "      <td>2</td>\n",
       "      <td>1</td>\n",
       "      <td>0</td>\n",
       "      <td>1</td>\n",
       "      <td>1</td>\n",
       "    </tr>\n",
       "    <tr>\n",
       "      <th>3</th>\n",
       "      <td>1</td>\n",
       "      <td>3</td>\n",
       "      <td>1</td>\n",
       "      <td>1</td>\n",
       "      <td>6</td>\n",
       "      <td>3</td>\n",
       "      <td>3</td>\n",
       "      <td>4</td>\n",
       "      <td>1</td>\n",
       "      <td>0</td>\n",
       "      <td>1</td>\n",
       "      <td>1</td>\n",
       "    </tr>\n",
       "    <tr>\n",
       "      <th>4</th>\n",
       "      <td>1</td>\n",
       "      <td>3</td>\n",
       "      <td>1</td>\n",
       "      <td>1</td>\n",
       "      <td>2</td>\n",
       "      <td>3</td>\n",
       "      <td>3</td>\n",
       "      <td>1</td>\n",
       "      <td>1</td>\n",
       "      <td>4</td>\n",
       "      <td>1</td>\n",
       "      <td>1</td>\n",
       "    </tr>\n",
       "    <tr>\n",
       "      <th>...</th>\n",
       "      <td>...</td>\n",
       "      <td>...</td>\n",
       "      <td>...</td>\n",
       "      <td>...</td>\n",
       "      <td>...</td>\n",
       "      <td>...</td>\n",
       "      <td>...</td>\n",
       "      <td>...</td>\n",
       "      <td>...</td>\n",
       "      <td>...</td>\n",
       "      <td>...</td>\n",
       "      <td>...</td>\n",
       "    </tr>\n",
       "    <tr>\n",
       "      <th>464692</th>\n",
       "      <td>98</td>\n",
       "      <td>2</td>\n",
       "      <td>2</td>\n",
       "      <td>1</td>\n",
       "      <td>1</td>\n",
       "      <td>0</td>\n",
       "      <td>7</td>\n",
       "      <td>0</td>\n",
       "      <td>7</td>\n",
       "      <td>3</td>\n",
       "      <td>2</td>\n",
       "      <td>1</td>\n",
       "    </tr>\n",
       "    <tr>\n",
       "      <th>464693</th>\n",
       "      <td>98</td>\n",
       "      <td>3</td>\n",
       "      <td>2</td>\n",
       "      <td>2</td>\n",
       "      <td>5</td>\n",
       "      <td>0</td>\n",
       "      <td>7</td>\n",
       "      <td>0</td>\n",
       "      <td>1</td>\n",
       "      <td>3</td>\n",
       "      <td>2</td>\n",
       "      <td>1</td>\n",
       "    </tr>\n",
       "    <tr>\n",
       "      <th>464694</th>\n",
       "      <td>98</td>\n",
       "      <td>3</td>\n",
       "      <td>1</td>\n",
       "      <td>1</td>\n",
       "      <td>3</td>\n",
       "      <td>3</td>\n",
       "      <td>4</td>\n",
       "      <td>2</td>\n",
       "      <td>1</td>\n",
       "      <td>2</td>\n",
       "      <td>2</td>\n",
       "      <td>1</td>\n",
       "    </tr>\n",
       "    <tr>\n",
       "      <th>464695</th>\n",
       "      <td>98</td>\n",
       "      <td>2</td>\n",
       "      <td>3</td>\n",
       "      <td>2</td>\n",
       "      <td>4</td>\n",
       "      <td>3</td>\n",
       "      <td>6</td>\n",
       "      <td>0</td>\n",
       "      <td>5</td>\n",
       "      <td>4</td>\n",
       "      <td>2</td>\n",
       "      <td>1</td>\n",
       "    </tr>\n",
       "    <tr>\n",
       "      <th>464696</th>\n",
       "      <td>98</td>\n",
       "      <td>3</td>\n",
       "      <td>2</td>\n",
       "      <td>2</td>\n",
       "      <td>4</td>\n",
       "      <td>3</td>\n",
       "      <td>6</td>\n",
       "      <td>4</td>\n",
       "      <td>1</td>\n",
       "      <td>4</td>\n",
       "      <td>2</td>\n",
       "      <td>1</td>\n",
       "    </tr>\n",
       "  </tbody>\n",
       "</table>\n",
       "<p>1504150 rows × 12 columns</p>\n",
       "</div>"
      ],
      "text/plain": [
       "        Police_Force  Accident_Severity  Number_of_Vehicles  \\\n",
       "0                  1                  2                   1   \n",
       "1                  1                  3                   1   \n",
       "2                  1                  3                   2   \n",
       "3                  1                  3                   1   \n",
       "4                  1                  3                   1   \n",
       "...              ...                ...                 ...   \n",
       "464692            98                  2                   2   \n",
       "464693            98                  3                   2   \n",
       "464694            98                  3                   1   \n",
       "464695            98                  2                   3   \n",
       "464696            98                  3                   2   \n",
       "\n",
       "        Number_of_Casualties  Day_of_Week  Road_Type  Speed_limit  \\\n",
       "0                          1            3          3            3   \n",
       "1                          1            4          0            3   \n",
       "2                          1            5          3            3   \n",
       "3                          1            6          3            3   \n",
       "4                          1            2          3            3   \n",
       "...                      ...          ...        ...          ...   \n",
       "464692                     1            1          0            7   \n",
       "464693                     2            5          0            7   \n",
       "464694                     1            3          3            4   \n",
       "464695                     2            4          3            6   \n",
       "464696                     2            4          3            6   \n",
       "\n",
       "        Light_Conditions  Weather_Conditions  Road_Surface_Conditions  \\\n",
       "0                      4                   5                        4   \n",
       "1                      2                   1                        0   \n",
       "2                      2                   1                        0   \n",
       "3                      4                   1                        0   \n",
       "4                      1                   1                        4   \n",
       "...                  ...                 ...                      ...   \n",
       "464692                 0                   7                        3   \n",
       "464693                 0                   1                        3   \n",
       "464694                 2                   1                        2   \n",
       "464695                 0                   5                        4   \n",
       "464696                 4                   1                        4   \n",
       "\n",
       "        Urban_or_Rural_Area  Did_Police_Officer_Attend_Scene_of_Accident  \n",
       "0                         1                                            1  \n",
       "1                         1                                            1  \n",
       "2                         1                                            1  \n",
       "3                         1                                            1  \n",
       "4                         1                                            1  \n",
       "...                     ...                                          ...  \n",
       "464692                    2                                            1  \n",
       "464693                    2                                            1  \n",
       "464694                    2                                            1  \n",
       "464695                    2                                            1  \n",
       "464696                    2                                            1  \n",
       "\n",
       "[1504150 rows x 12 columns]"
      ]
     },
     "execution_count": 14,
     "metadata": {},
     "output_type": "execute_result"
    }
   ],
   "source": [
    "new_df"
   ]
  },
  {
   "cell_type": "code",
   "execution_count": 15,
   "id": "8becd343-34d7-4580-8284-7dc1ff86d6fe",
   "metadata": {},
   "outputs": [
    {
     "name": "stdout",
     "output_type": "stream",
     "text": [
      "<class 'pandas.core.frame.DataFrame'>\n",
      "Int64Index: 1504150 entries, 0 to 464696\n",
      "Data columns (total 12 columns):\n",
      " #   Column                                       Non-Null Count    Dtype\n",
      "---  ------                                       --------------    -----\n",
      " 0   Police_Force                                 1504150 non-null  int64\n",
      " 1   Accident_Severity                            1504150 non-null  int64\n",
      " 2   Number_of_Vehicles                           1504150 non-null  int64\n",
      " 3   Number_of_Casualties                         1504150 non-null  int64\n",
      " 4   Day_of_Week                                  1504150 non-null  int64\n",
      " 5   Road_Type                                    1504150 non-null  int32\n",
      " 6   Speed_limit                                  1504150 non-null  int64\n",
      " 7   Light_Conditions                             1504150 non-null  int32\n",
      " 8   Weather_Conditions                           1504150 non-null  int32\n",
      " 9   Road_Surface_Conditions                      1504150 non-null  int32\n",
      " 10  Urban_or_Rural_Area                          1504150 non-null  int64\n",
      " 11  Did_Police_Officer_Attend_Scene_of_Accident  1504150 non-null  int32\n",
      "dtypes: int32(5), int64(7)\n",
      "memory usage: 120.5 MB\n"
     ]
    }
   ],
   "source": [
    "new_df.info()"
   ]
  },
  {
   "cell_type": "code",
   "execution_count": null,
   "id": "65fc49f3-92cc-45b2-9917-50a4998d4aae",
   "metadata": {},
   "outputs": [],
   "source": []
  },
  {
   "cell_type": "code",
   "execution_count": 16,
   "id": "33eed8bb-f241-4360-80e2-0212ceb711ab",
   "metadata": {},
   "outputs": [],
   "source": [
    "y=new_df[\"Accident_Severity\"]"
   ]
  },
  {
   "cell_type": "code",
   "execution_count": 17,
   "id": "4ef20e5d-2761-49b5-a528-8950cc7a9b35",
   "metadata": {},
   "outputs": [],
   "source": [
    "X=new_df.drop(\"Accident_Severity\",axis=1)"
   ]
  },
  {
   "cell_type": "code",
   "execution_count": null,
   "id": "2251714d-e509-477d-a17f-b8f549969d05",
   "metadata": {},
   "outputs": [],
   "source": []
  },
  {
   "cell_type": "code",
   "execution_count": 18,
   "id": "95b243fc-f8b6-4c42-a61e-5cf525df1f4f",
   "metadata": {},
   "outputs": [],
   "source": [
    "X_train,X_test,y_train,y_test=train_test_split(X,y,test_size=0.20,random_state=42)"
   ]
  },
  {
   "cell_type": "code",
   "execution_count": null,
   "id": "8edfe125-959a-437e-b5d8-bd2332058b94",
   "metadata": {},
   "outputs": [],
   "source": []
  },
  {
   "cell_type": "code",
   "execution_count": 72,
   "id": "0c13d12e-b3c7-45d8-a9d8-21c23d47a4cb",
   "metadata": {},
   "outputs": [],
   "source": [
    "from sklearn.metrics import confusion_matrix, accuracy_score, classification_report\n",
    "from sklearn.metrics import roc_auc_score, auc, roc_curve, recall_score, f1_score, precision_score\n",
    "from sklearn.naive_bayes import GaussianNB"
   ]
  },
  {
   "cell_type": "code",
   "execution_count": 73,
   "id": "be8df789-10c7-4132-9a6a-6c2154426c4d",
   "metadata": {},
   "outputs": [],
   "source": [
    "nb = GaussianNB()\n",
    "nb_model = nb.fit(X_train, y_train)\n"
   ]
  },
  {
   "cell_type": "code",
   "execution_count": 74,
   "id": "5b967b55-e529-4a5c-bdef-c450983c53f5",
   "metadata": {},
   "outputs": [],
   "source": [
    "y_pred2=nb_model.predict(X_test)"
   ]
  },
  {
   "cell_type": "code",
   "execution_count": null,
   "id": "336a96b8-f3e0-4bf5-ab50-1e1167e5ab04",
   "metadata": {},
   "outputs": [],
   "source": []
  },
  {
   "cell_type": "code",
   "execution_count": 76,
   "id": "e7362e2b-49fb-41fa-be28-4baa6568c1c3",
   "metadata": {},
   "outputs": [
    {
     "data": {
      "text/plain": [
       "0.8009673237376591"
      ]
     },
     "execution_count": 76,
     "metadata": {},
     "output_type": "execute_result"
    }
   ],
   "source": [
    "accuracy_score(y_test, y_pred2)"
   ]
  },
  {
   "cell_type": "code",
   "execution_count": null,
   "id": "aa1df0b5-eec7-4e54-8804-3b40046671bb",
   "metadata": {},
   "outputs": [],
   "source": []
  },
  {
   "cell_type": "code",
   "execution_count": null,
   "id": "68c7e293-ab0c-482b-88b9-e28bfa1cb257",
   "metadata": {},
   "outputs": [],
   "source": []
  },
  {
   "cell_type": "code",
   "execution_count": null,
   "id": "7990596b-07ae-4543-9b2d-ddaf140ddca3",
   "metadata": {},
   "outputs": [],
   "source": []
  },
  {
   "cell_type": "code",
   "execution_count": null,
   "id": "41422ba3-4563-4302-b25e-5f17067111ce",
   "metadata": {},
   "outputs": [],
   "source": []
  },
  {
   "cell_type": "code",
   "execution_count": null,
   "id": "4738fc44-01fb-44e8-9e81-f49e9950c824",
   "metadata": {},
   "outputs": [],
   "source": []
  },
  {
   "cell_type": "code",
   "execution_count": null,
   "id": "c32ebb09-de7b-4219-ae58-295298cf2176",
   "metadata": {},
   "outputs": [],
   "source": []
  },
  {
   "cell_type": "code",
   "execution_count": null,
   "id": "8b3a22c4-4ff2-4c4a-b00a-6a9f8f5a5a39",
   "metadata": {},
   "outputs": [],
   "source": []
  },
  {
   "cell_type": "code",
   "execution_count": null,
   "id": "6c652b7f-3fbe-4510-9878-91c8458c94fd",
   "metadata": {},
   "outputs": [],
   "source": []
  },
  {
   "cell_type": "code",
   "execution_count": null,
   "id": "7c83f3dc-c7a6-4d65-b0bd-2ac9cdc05515",
   "metadata": {},
   "outputs": [],
   "source": []
  },
  {
   "cell_type": "code",
   "execution_count": null,
   "id": "ae1b06c9-03d4-4f67-ba09-8baf7c3c566a",
   "metadata": {},
   "outputs": [],
   "source": []
  },
  {
   "cell_type": "code",
   "execution_count": null,
   "id": "e0ccc344-ea5f-49fe-aa29-d3558730ba60",
   "metadata": {},
   "outputs": [],
   "source": []
  },
  {
   "cell_type": "code",
   "execution_count": null,
   "id": "078c917e-b4f1-4425-8307-5cfe16f92199",
   "metadata": {},
   "outputs": [],
   "source": []
  },
  {
   "cell_type": "code",
   "execution_count": null,
   "id": "6f1c2e24-a6b3-4e7f-8e27-0b1ba60368ce",
   "metadata": {},
   "outputs": [],
   "source": []
  },
  {
   "cell_type": "code",
   "execution_count": null,
   "id": "72998708-9165-44f3-aa02-89cef03f9d48",
   "metadata": {},
   "outputs": [],
   "source": []
  },
  {
   "cell_type": "code",
   "execution_count": null,
   "id": "23ac689a-9bb8-4ef6-bdb2-7d639e224a3d",
   "metadata": {},
   "outputs": [],
   "source": []
  },
  {
   "cell_type": "code",
   "execution_count": null,
   "id": "dd7ee9f0-3016-462f-b52f-56d9a73a757b",
   "metadata": {},
   "outputs": [],
   "source": []
  },
  {
   "cell_type": "code",
   "execution_count": null,
   "id": "05ce5a7b-2736-46c0-a3b4-ad6454b56014",
   "metadata": {},
   "outputs": [],
   "source": []
  },
  {
   "cell_type": "code",
   "execution_count": null,
   "id": "a31e7d23-8986-4669-8af2-a8903cfba1e2",
   "metadata": {},
   "outputs": [],
   "source": []
  },
  {
   "cell_type": "code",
   "execution_count": null,
   "id": "60467923-c219-4461-a327-598e12aa8e80",
   "metadata": {},
   "outputs": [],
   "source": []
  },
  {
   "cell_type": "code",
   "execution_count": null,
   "id": "1207c712-967f-430e-b0fc-1b543cd6f29a",
   "metadata": {},
   "outputs": [],
   "source": []
  },
  {
   "cell_type": "code",
   "execution_count": null,
   "id": "789ca0d7-46b6-4f2a-a548-d7b414107d55",
   "metadata": {},
   "outputs": [],
   "source": []
  },
  {
   "cell_type": "code",
   "execution_count": null,
   "id": "2c4f6d60-24ae-4114-9577-7687abd739c9",
   "metadata": {},
   "outputs": [],
   "source": []
  },
  {
   "cell_type": "code",
   "execution_count": null,
   "id": "0d0563b2-cb15-4a61-b075-ce72564e8a6e",
   "metadata": {},
   "outputs": [],
   "source": []
  },
  {
   "cell_type": "code",
   "execution_count": null,
   "id": "682b3fb6-091f-438e-ae24-c7d128eff240",
   "metadata": {},
   "outputs": [],
   "source": []
  },
  {
   "cell_type": "code",
   "execution_count": null,
   "id": "49803b19-a9a4-4859-b81e-6e6bc556fab1",
   "metadata": {},
   "outputs": [],
   "source": []
  },
  {
   "cell_type": "code",
   "execution_count": null,
   "id": "f23dd64f-aabc-4b2f-9e88-92fe8acc5ad8",
   "metadata": {},
   "outputs": [],
   "source": []
  },
  {
   "cell_type": "code",
   "execution_count": null,
   "id": "a25426d7-7dc9-4f12-b386-002f9a4df604",
   "metadata": {},
   "outputs": [],
   "source": []
  },
  {
   "cell_type": "code",
   "execution_count": null,
   "id": "10893cbb-32a1-4008-a40e-e486af4b06cf",
   "metadata": {},
   "outputs": [],
   "source": []
  },
  {
   "cell_type": "code",
   "execution_count": null,
   "id": "d81ca1a8-a6ba-4501-8399-fc66a7805073",
   "metadata": {},
   "outputs": [],
   "source": []
  },
  {
   "cell_type": "code",
   "execution_count": null,
   "id": "85934221-0fa0-42b2-af65-a239dd28406b",
   "metadata": {},
   "outputs": [],
   "source": []
  },
  {
   "cell_type": "code",
   "execution_count": null,
   "id": "ae2581cc-9134-41a6-95f4-200901d04299",
   "metadata": {},
   "outputs": [],
   "source": []
  },
  {
   "cell_type": "code",
   "execution_count": null,
   "id": "fafe9b6c-24a8-4972-9b66-e5cfc264f0aa",
   "metadata": {},
   "outputs": [],
   "source": []
  },
  {
   "cell_type": "code",
   "execution_count": null,
   "id": "76f4db8b-5838-45e0-b719-555b6b04081a",
   "metadata": {},
   "outputs": [],
   "source": []
  },
  {
   "cell_type": "code",
   "execution_count": null,
   "id": "44c62c98-52f5-42e8-96fd-de2a67ecc95e",
   "metadata": {},
   "outputs": [],
   "source": []
  }
 ],
 "metadata": {
  "kernelspec": {
   "display_name": "Python 3 (ipykernel)",
   "language": "python",
   "name": "python3"
  },
  "language_info": {
   "codemirror_mode": {
    "name": "ipython",
    "version": 3
   },
   "file_extension": ".py",
   "mimetype": "text/x-python",
   "name": "python",
   "nbconvert_exporter": "python",
   "pygments_lexer": "ipython3",
   "version": "3.9.7"
  }
 },
 "nbformat": 4,
 "nbformat_minor": 5
}
